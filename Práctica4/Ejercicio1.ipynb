{
 "cells": [
  {
   "cell_type": "markdown",
   "metadata": {},
   "source": [
    "## Problemas de Ficheros\n",
    "-------------------------"
   ]
  },
  {
   "cell_type": "markdown",
   "metadata": {},
   "source": [
    "### 1.\n",
    "Escribir una función que pida un número entero entre 1 y 10 y guarde en un fichero con el nombre tabla-n.txt la tabla de multiplicar de ese número, done n es el número introducido."
   ]
  },
  {
   "cell_type": "code",
   "execution_count": null,
   "metadata": {},
   "outputs": [],
   "source": [
    "import os\n",
    "\n",
    "def mult_table(n = 0):\n",
    "    \"\"\"Recibe un número del 1 al 10 y entrega un fichero con la tabla de multiplicar de dicho número\"\"\"\n",
    "    while True:\n",
    "        try:\n",
    "            n = int(input(\"Ingrese un número del 1 al 10: \"))\n",
    "            if n > 0 and 11 > n:\n",
    "                texto = []\n",
    "                for i in range(1, 13):\n",
    "                    m = i * n\n",
    "                    texto.append(f\"{n} * {i} = {m}\\n\")\n",
    "            \n",
    "                with open(f\"./tabla-{n}.txt\",\"w\") as f:\n",
    "                    f.writelines(texto)\n",
    "                    f.close\n",
    "                with open(f\"./tabla-{n}.txt\",\"r\") as r:\n",
    "                    print(r.read())\n",
    "            else:\n",
    "                print(\"Ingrese un número válido\")\n",
    "                mult_table()\n",
    "        except:\n",
    "            print(\"Ingrese un número correcto\")\n",
    "        else:\n",
    "            break\n",
    "mult_table()\n"
   ]
  },
  {
   "cell_type": "markdown",
   "metadata": {},
   "source": [
    "<h3>2.</h3>\n",
    "Escribir una función que pida un número entero entre 1 y 10, lea el fichero tabla-n.txt con la tabla de multiplicar de ese número, done n es el número introducido, y la muestre por pantalla. Si el fichero no existe debe mostrar un mensaje por pantalla informando de ello."
   ]
  },
  {
   "cell_type": "code",
   "execution_count": null,
   "metadata": {},
   "outputs": [],
   "source": [
    "def read_table(n = 0):\n",
    "    \"\"\"Recibe un número del 1 al 10 y lee su tabla de multiplicar, si existe.\"\"\"\n",
    "    while True:\n",
    "        try:\n",
    "            n = int(input(\"Ingrese un número del 1 al 10: \"))\n",
    "            if n > 0 and 11 > n:\n",
    "                with open(f\"./tabla-{n}.txt\",\"r\") as f:\n",
    "                    texto = f.read()\n",
    "                    f.close()\n",
    "                print(texto)\n",
    "            else:\n",
    "                print(\"Ingrese un número válido\")\n",
    "                read_table()\n",
    "        except FileNotFoundError:\n",
    "            print(\"La tabla solicitada no existe. Pruebe generándola primero\")\n",
    "        except ValueError:\n",
    "            print(\"Ingrese un número admisible\")\n",
    "        else:\n",
    "            break"
   ]
  },
  {
   "cell_type": "code",
   "execution_count": null,
   "metadata": {},
   "outputs": [],
   "source": [
    "read_table()"
   ]
  },
  {
   "cell_type": "markdown",
   "metadata": {},
   "source": [
    "<h3>3.</h3>\n",
    "\n",
    "Escribir una función que pida dos números n y m entre 1 y 10, lea el fichero tabla-n.txt con la tabla de multiplicar de ese número, y muestre por pantalla la línea m del fichero. Si el fichero no existe debe mostrar un mensaje por pantalla informando de ello."
   ]
  },
  {
   "cell_type": "code",
   "execution_count": null,
   "metadata": {},
   "outputs": [],
   "source": [
    "def read_tableline(n = 0, m = 0):\n",
    "    \"\"\"Recibe un número del 1 al 10 y otro del 1 al 12, lee su tabla de multiplicar y la línea, respectivamente, si existen.\"\"\"\n",
    "    while True:\n",
    "        try:\n",
    "            n = int(input(\"Ingrese un número del 1 al 10 para la Tabla: \"))\n",
    "            m = int(input(\"Ingrese un número del 1 al 12 para la línea: \"))\n",
    "            if n > 0 and 11 > n and m > 0 and 13 > m:\n",
    "                with open(f\"./tabla-{n}.txt\",\"r\") as f:\n",
    "                    texto = f.readlines()\n",
    "                    print(texto[m-1])\n",
    "            else:\n",
    "                print(\"Ingrese un número válido\")\n",
    "                read_table()\n",
    "        except FileNotFoundError:\n",
    "            print(\"La tabla solicitada no existe. Pruebe generándola primero\")\n",
    "        except ValueError:\n",
    "            print(\"Ingrese un número admisible\")\n",
    "        else:\n",
    "            break\n",
    "read_tableline()"
   ]
  },
  {
   "cell_type": "markdown",
   "metadata": {
    "tags": []
   },
   "source": [
    "## Problemas de Expresiones Regulares\n",
    "---------------------------------------------\n"
   ]
  },
  {
   "cell_type": "code",
   "execution_count": 2,
   "metadata": {},
   "outputs": [],
   "source": [
    "from modulo import datos\n",
    "import re"
   ]
  },
  {
   "cell_type": "code",
   "execution_count": 23,
   "metadata": {},
   "outputs": [],
   "source": [
    "path = './src/re/short_tweets.csv'"
   ]
  },
  {
   "cell_type": "markdown",
   "metadata": {},
   "source": [
    "<h3>1.</h3>\n",
    "\n",
    "Escriba una expresión regular que encuentre todas las coincidencias que sigan el siguiente patrón.\n",
    "\n",
    "Ej. <code>@robot3!</code>"
   ]
  },
  {
   "cell_type": "code",
   "execution_count": 59,
   "metadata": {},
   "outputs": [
    {
     "data": {
      "text/plain": [
       "'@robot9! @robot4& I have a good feeling that the show isgoing to be amazing! @robot9$ @robot7%'"
      ]
     },
     "execution_count": 59,
     "metadata": {},
     "output_type": "execute_result"
    }
   ],
   "source": [
    "# Cadena entrada\n",
    "s = '@robot9! @robot4& I have a good feeling that the show isgoing to be amazing! @robot9$ @robot7%'\n",
    "s"
   ]
  },
  {
   "cell_type": "code",
   "execution_count": 60,
   "metadata": {},
   "outputs": [
    {
     "name": "stdout",
     "output_type": "stream",
     "text": [
      "['@robot9!', '@robot4&', '@robot9$', '@robot7%']\n"
     ]
    }
   ],
   "source": [
    "patron = r\"@robot\\S{2}\"\n",
    "print(re.findall(patron, s))"
   ]
  },
  {
   "cell_type": "markdown",
   "metadata": {},
   "source": [
    "<h3>2.</h3>\n",
    "Escriba una expresión regular para cada caso: \n",
    "\n",
    "- todos los usuarios que sigan el siguente patron. <code>User_mentions:9</code>\n",
    "\n",
    "- encuentre los numero de likes: <code>likes: 5</code>\n",
    "\n",
    "- que permita encontrar el numero de retweets. <code>number of retweets: 4</code>"
   ]
  },
  {
   "cell_type": "code",
   "execution_count": 16,
   "metadata": {},
   "outputs": [
    {
     "data": {
      "text/plain": [
       "\"Unfortunately one of those moments wasn't a giant squid monster. User_mentions: 2, likes: 9, number of retweets: 7\""
      ]
     },
     "execution_count": 16,
     "metadata": {},
     "output_type": "execute_result"
    }
   ],
   "source": [
    "# Cadena entrada\n",
    "s = \"Unfortunately one of those moments wasn't a giant squid monster. User_mentions: 2, likes: 9, number of retweets: 7\"\n",
    "s"
   ]
  },
  {
   "cell_type": "code",
   "execution_count": 21,
   "metadata": {},
   "outputs": [
    {
     "name": "stdout",
     "output_type": "stream",
     "text": [
      "['User_mentions: 2']\n",
      "['likes: 9']\n",
      "['number of retweets: 7']\n",
      "Datos: ['User_mentions: 2'], ['likes: 9'], ['number of retweets: 7']\n"
     ]
    }
   ],
   "source": [
    "patron1 = r\"User_mentions:\\s\\d\"\n",
    "print(re.findall(patron1, s))\n",
    "\n",
    "patron2 = r\"likes:\\s\\d\"\n",
    "print(re.findall(patron2, s))\n",
    "\n",
    "patron3 = r\"number of retweets:\\s\\d\"\n",
    "print(re.findall(patron3, s))\n",
    "\n",
    "print(f\"Datos: {re.findall(patron1, s)}, {re.findall(patron2, s)}, {re.findall(patron3, s)}\")"
   ]
  },
  {
   "cell_type": "markdown",
   "metadata": {},
   "source": [
    "<h3>3.</h3>\n",
    "\n",
    "Escriba una expresión regular que encuente los nombres de archivos txt en la cadena:\n",
    "\n",
    "    - Nombre de archivo txt siempre inicia al principio de la cadena\n",
    "    - Siempre comienzan con una secuencia de 2 o 3 vocales mayúsculas o minúsculas (a e i o u).\n",
    "    - Ellos siempre terminan con el final del txt.\n",
    "\n"
   ]
  },
  {
   "cell_type": "code",
   "execution_count": 24,
   "metadata": {},
   "outputs": [],
   "source": [
    "analisis_sentimientos = datos.read_pandas(path,780,782)"
   ]
  },
  {
   "cell_type": "code",
   "execution_count": 64,
   "metadata": {},
   "outputs": [
    {
     "name": "stdout",
     "output_type": "stream",
     "text": [
      "AIshadowhunters.txt aaaaand back to my literature review. At least i have a friendly cup of coffee to keep me company\n",
      "ouMYTAXES.txt I am worried that I won't get my $900 even though I paid tax last year\n"
     ]
    }
   ],
   "source": [
    "regex = r\"\\w{2,3}.+txt\"\n",
    "a = []\n",
    "for tweet in analisis_sentimientos:\n",
    "    print(tweet)\n",
    "    a.append(re.findall(regex, tweet))\n"
   ]
  },
  {
   "cell_type": "code",
   "execution_count": 65,
   "metadata": {},
   "outputs": [
    {
     "name": "stdout",
     "output_type": "stream",
     "text": [
      "[['AIshadowhunters.txt'], ['ouMYTAXES.txt']]\n"
     ]
    }
   ],
   "source": [
    "print(a)"
   ]
  },
  {
   "cell_type": "markdown",
   "metadata": {},
   "source": [
    "<h3>4.</h3>\n",
    "\n",
    "Escriba una expresión regular que valide una lista de correos electrónicos\n",
    "- Primera parte:\n",
    "    - Caracteres en mayuscula y minúscula\n",
    "    - Números\n",
    "    - Caracteres especiales: !, #, %, &, *, $, .\n",
    "- Debe contener @\n",
    "- Dominio:\n",
    "    - Puede ser cualquier conjunto de caracteres\n",
    "    - Solo puede terminar con <code>.com</code>\n",
    "\n",
    "ENTRADA:\n",
    "\n",
    "- ['n.john.smith@gmail.com', '87victory@hotmail.com', '!#mary-=@msca.net']\n",
    "    \n",
    "SALIDA:\n",
    "\n",
    "- The email <code>n.john.smith@gmail.com</code> is a valid email\n",
    "- The email <code>87victory@hotmail.com</code> is a valid email\n",
    "- The email <code>!#mary-=@msca.net</code> is invalid\n",
    "\n",
    "\n",
    "Nota:\n",
    "Solo debe generar la crear la expresión regular"
   ]
  },
  {
   "cell_type": "code",
   "execution_count": 55,
   "metadata": {},
   "outputs": [
    {
     "name": "stdout",
     "output_type": "stream",
     "text": [
      "The email n.john.smith@gmail.com is a valid email\n",
      "The email 87victory@hotmail.com is a valid email\n",
      "The email !#mary-=@msca.net is invalid\n"
     ]
    }
   ],
   "source": [
    "# Escriba una expresión regular para validar un correo\n",
    "regex = r\".+@.+com\"\n",
    "\n",
    "emails = ['n.john.smith@gmail.com', '87victory@hotmail.com', '!#mary-=@msca.net']\n",
    "for example in emails:\n",
    "    # Match the regex to the string\n",
    "    if re.match(regex, example):\n",
    "        # Complete the format method to print out the result\n",
    "        print(\"The email {email_example} is a valid email\".format(email_example=example))\n",
    "    else:\n",
    "        print(\"The email {email_example} is invalid\".format(email_example=example))   "
   ]
  },
  {
   "cell_type": "code",
   "execution_count": null,
   "metadata": {},
   "outputs": [],
   "source": []
  }
 ],
 "metadata": {
  "kernelspec": {
   "display_name": "Python 3 (ipykernel)",
   "language": "python",
   "name": "python3"
  },
  "language_info": {
   "codemirror_mode": {
    "name": "ipython",
    "version": 3
   },
   "file_extension": ".py",
   "mimetype": "text/x-python",
   "name": "python",
   "nbconvert_exporter": "python",
   "pygments_lexer": "ipython3",
   "version": "3.9.7"
  }
 },
 "nbformat": 4,
 "nbformat_minor": 4
}
